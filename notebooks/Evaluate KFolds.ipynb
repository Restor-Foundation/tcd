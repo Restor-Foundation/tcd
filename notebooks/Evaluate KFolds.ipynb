{
 "cells": [
  {
   "cell_type": "markdown",
   "id": "26b14fb1",
   "metadata": {},
   "source": [
    "This notebook documents how to evaluate the TCD model using k-fold cross validation. It assumes that"
   ]
  },
  {
   "cell_type": "code",
   "execution_count": null,
   "id": "83f19839",
   "metadata": {},
   "outputs": [],
   "source": [
    "from tcd_pipeline.modelrunner import ModelRunner\n",
    "from tcd_pipeline.config import load_config\n",
    "import os"
   ]
  },
  {
   "cell_type": "code",
   "execution_count": null,
   "id": "b54165d9",
   "metadata": {},
   "outputs": [],
   "source": [
    "config = \"../config/base_detectron.yaml\"\n",
    "base_config = load_config(config,  config_root=os.path.dirname(os.path.abspath(config)))"
   ]
  },
  {
   "cell_type": "markdown",
   "id": "4677bfef",
   "metadata": {},
   "source": [
    "Make sure we have up-to-date weights:"
   ]
  },
  {
   "cell_type": "markdown",
   "id": "d0240d36",
   "metadata": {},
   "source": [
    "gsutil -m cp gs://restor-deep-learning/models/segmentation/instance/kfold_0/20230315/model_final.pth ../checkpoints/kfold_0/model_final.pth\n",
    "gsutil -m cp gs://restor-deep-learning/models/segmentation/instance/kfold_1/20230316/model_final.pth ../checkpoints/kfold_1/model_final.pth\n",
    "gsutil -m cp gs://restor-deep-learning/models/segmentation/instance/kfold_2/20230316/model_final.pth ../checkpoints/kfold_2/model_final.pth\n",
    "gsutil -m cp gs://restor-deep-learning/models/segmentation/instance/kfold_3/20230317/model_final.pth ../checkpoints/kfold_3/model_final.pth\n",
    "gsutil -m cp gs://restor-deep-learning/models/segmentation/instance/kfold_4/20230318/model_final.pth ../checkpoints/kfold_4/model_final.pth"
   ]
  },
  {
   "cell_type": "code",
   "execution_count": null,
   "id": "5897c9fd",
   "metadata": {},
   "outputs": [],
   "source": [
    "folds = 5"
   ]
  },
  {
   "cell_type": "code",
   "execution_count": null,
   "id": "0a0080f2",
   "metadata": {},
   "outputs": [],
   "source": [
    "for i in range(folds):\n",
    "    \n",
    "    base_config['model']['weights'] = f\"../checkpoints/kfold_{i}/model_final.pth\"\n",
    "    runner = ModelRunner(base_config)\n",
    "    \n",
    "    runner.evaluate(annotation_file=f\"./kfold_{i}/test.json\",\n",
    "                    image_folder=\"../data/restor-tcd-oam/images/\",\n",
    "                    output_location=f\"./kfold_{i}/eval/\",\n",
    "                    evaluate=True)"
   ]
  },
  {
   "cell_type": "code",
   "execution_count": null,
   "id": "04ac5335",
   "metadata": {},
   "outputs": [],
   "source": [
    "def iou(bbox_a, bbox_b):\n",
    "    \n",
    "    x, y, w, h = bbox_a\n",
    "    a = geometry.box(x, y, x+w, y+h)\n",
    "    \n",
    "    x, y, w, h = bbox_b\n",
    "    b = geometry.box(x, y, x+w, y+h)\n",
    "    \n",
    "    intersect = a.intersection(b).area\n",
    "    union = a.union(b).area\n",
    "    iou = intersect / union\n",
    "    \n",
    "    return iou\n",
    "\n",
    "def calculate_preds(gt_coco, eval_coco):\n",
    "    preds = []\n",
    "    labels = []\n",
    "    check_empty_gt = []\n",
    "    check_empty_pred = []\n",
    "\n",
    "    iou_threshold = 0.2\n",
    "\n",
    "    for idx in tqdm(gt_coco.imgs):\n",
    "        # Load image at idx\n",
    "        img = gt_coco.imgs[idx]\n",
    "        gt_anns = gt_coco.imgToAnns[idx]\n",
    "\n",
    "        # Skip if predictions don't exist\n",
    "        try:\n",
    "            with open(os.path.join(pred_root, os.path.splitext(img['file_name'])[0])+'.json') as fp:\n",
    "                data = json.load(fp)\n",
    "                dt_anns = data['predictions']\n",
    "        except FileNotFoundError:\n",
    "            continue\n",
    "\n",
    "        # If both empty, probably correct\n",
    "        if len(gt_anns) == 0 and len(dt_anns) == 0:\n",
    "            continue\n",
    "        # Check for confident detections with zero ground truth\n",
    "        elif len(gt_anns) == 0 and len(dt_anns) > 0:\n",
    "            check_empty_gt.append(img)\n",
    "            continue\n",
    "        # Check annotations for correctness as nothing was predicted\n",
    "        elif len(gt_anns) > 0 and len(dt_anns) == 0:\n",
    "            check_empty_pred.append(img)\n",
    "            continue\n",
    "\n",
    "        matches = np.zeros((len(gt_anns), len(dt_anns)))\n",
    "        matches.shape\n",
    "\n",
    "        for i, gt_ann in enumerate(gt_anns):\n",
    "            for j, dt_ann in enumerate(dt_anns):\n",
    "                matches[i, j] = iou(gt_ann['bbox'], dt_ann['bbox'])\n",
    "\n",
    "        best_det_idx = np.argmax(matches, axis=1)\n",
    "\n",
    "        for idx_gt, idx_dt in enumerate(best_det_idx):\n",
    "            gt_ann = gt_anns[idx_gt]\n",
    "            dt_ann = dt_anns[idx_dt]\n",
    "            _iou = matches[idx_gt][idx_dt]\n",
    "\n",
    "            if _iou > iou_threshold:\n",
    "                labels.append(gt_ann)\n",
    "                pred = dt_ann['probabilities']\n",
    "                # TODO: FIX THIS URGENTLY FOR CONSISTENCY\n",
    "                preds.append([pred[0], pred[2], pred[1]])\n",
    "                ious.append(_iou)"
   ]
  },
  {
   "cell_type": "code",
   "execution_count": null,
   "id": "e10baefa",
   "metadata": {},
   "outputs": [],
   "source": [
    "for i in range(folds):\n",
    "    "
   ]
  }
 ],
 "metadata": {
  "kernelspec": {
   "display_name": "Python 3 (ipykernel)",
   "language": "python",
   "name": "python3"
  },
  "language_info": {
   "codemirror_mode": {
    "name": "ipython",
    "version": 3
   },
   "file_extension": ".py",
   "mimetype": "text/x-python",
   "name": "python",
   "nbconvert_exporter": "python",
   "pygments_lexer": "ipython3"
  }
 },
 "nbformat": 4,
 "nbformat_minor": 5
}
