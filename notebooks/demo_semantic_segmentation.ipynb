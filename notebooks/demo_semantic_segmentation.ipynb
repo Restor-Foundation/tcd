{
 "cells": [
  {
   "cell_type": "code",
   "execution_count": null,
   "id": "4662896d",
   "metadata": {},
   "outputs": [],
   "source": [
    "%load_ext autoreload\n",
    "%autoreload 2\n",
    "\n",
    "from tcd_pipeline.modelrunner import ModelRunner\n",
    "import ttach as tta\n",
    "from PIL import Image\n",
    "import numpy as np\n",
    "import os"
   ]
  },
  {
   "cell_type": "code",
   "execution_count": null,
   "id": "5fadc913",
   "metadata": {},
   "outputs": [],
   "source": [
    "import matplotlib.pyplot as plt\n",
    "%matplotlib inline"
   ]
  },
  {
   "cell_type": "code",
   "execution_count": null,
   "id": "acaa7a19",
   "metadata": {},
   "outputs": [],
   "source": [
    "runner = ModelRunner(\"../config/base_semantic_segmentation.yaml\")\n",
    "runner.model.model = tta.SegmentationTTAWrapper(runner.model.model, transforms=tta.aliases.d4_transform())"
   ]
  },
  {
   "cell_type": "code",
   "execution_count": null,
   "id": "e1c54630",
   "metadata": {},
   "outputs": [],
   "source": [
    "image_path = \"../data/5c15321f63d9810007f8b06f_10_00000.tif\"\n",
    "results = runner.predict(image_path, warm_start = True)"
   ]
  },
  {
   "cell_type": "code",
   "execution_count": null,
   "id": "19ba2c59",
   "metadata": {},
   "outputs": [],
   "source": [
    "print(results)"
   ]
  },
  {
   "cell_type": "code",
   "execution_count": null,
   "id": "2693017c",
   "metadata": {},
   "outputs": [],
   "source": [
    "results.save_masks(output_path=\"./results\", image_path=image_path)"
   ]
  },
  {
   "cell_type": "code",
   "execution_count": null,
   "id": "b0b44026",
   "metadata": {},
   "outputs": [],
   "source": [
    "results.visualise(output_path=\"./results\")"
   ]
  },
  {
   "cell_type": "code",
   "execution_count": null,
   "id": "aedbbb4e",
   "metadata": {},
   "outputs": [],
   "source": [
    "!pip install python-liquid"
   ]
  },
  {
   "cell_type": "code",
   "execution_count": null,
   "id": "523bf32c",
   "metadata": {},
   "outputs": [],
   "source": [
    "report_results = {\n",
    "    \"raw_image\": \"raw_image.jpg\",\n",
    "    \"canopy_mask\": \"canopy_mask.jpg\",\n",
    "    \"canopy_confidence\": \"confidence_map.jpg\",\n",
    "    \"local_maximum\": \"local_maximum.jpg\",\n",
    "    \"canopy_cover\": results.canopy_cover,\n",
    "    \"image_name\": os.path.basename(results.image.name),\n",
    "    \"image_res\": results.image.res[0],\n",
    "    \"image_crs\": results.image.crs,\n",
    "}"
   ]
  },
  {
   "cell_type": "code",
   "execution_count": null,
   "id": "3a304079",
   "metadata": {},
   "outputs": [],
   "source": [
    "from liquid import Environment\n",
    "from liquid import Mode\n",
    "from liquid import StrictUndefined\n",
    "from liquid import FileSystemLoader\n",
    "\n",
    "env = Environment(\n",
    "    tolerance=Mode.STRICT,\n",
    "    undefined=StrictUndefined,\n",
    "    loader=FileSystemLoader(\"../templates/\"),\n",
    ")\n",
    "\n",
    "template = env.get_template(\"canopy_coverage.html\")\n",
    "result = template.render(data=report_results, page_title=\"Canopy coverage report\")\n",
    "\n",
    "with open(\"./results/report.html\", 'w') as fp:\n",
    "    fp.write(result)"
   ]
  }
 ],
 "metadata": {
  "kernelspec": {
   "display_name": "Python 3 (ipykernel)",
   "language": "python",
   "name": "python3"
  },
  "language_info": {
   "codemirror_mode": {
    "name": "ipython",
    "version": 3
   },
   "file_extension": ".py",
   "mimetype": "text/x-python",
   "name": "python",
   "nbconvert_exporter": "python",
   "pygments_lexer": "ipython3"
  }
 },
 "nbformat": 4,
 "nbformat_minor": 5
}
