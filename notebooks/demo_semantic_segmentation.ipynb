{
 "cells": [
  {
   "cell_type": "code",
   "execution_count": null,
   "id": "4662896d",
   "metadata": {},
   "outputs": [],
   "source": [
    "%load_ext autoreload\n",
    "%autoreload 2\n",
    "\n",
    "from tcd_pipeline.modelrunner import ModelRunner\n",
    "import ttach as tta\n",
    "from PIL import Image\n",
    "import numpy as np\n",
    "import os\n",
    "import glob\n",
    "from pathlib import Path\n",
    "import matplotlib.pyplot as plt\n",
    "%matplotlib inline"
   ]
  },
  {
   "cell_type": "code",
   "execution_count": null,
   "id": "bb1c9a71",
   "metadata": {},
   "outputs": [],
   "source": [
    "#!pip install python-liquid\n",
    "\n",
    "def render_report(output_path, report_results):\n",
    "    from liquid import Environment\n",
    "    from liquid import Mode\n",
    "    from liquid import StrictUndefined\n",
    "    from liquid import FileSystemLoader\n",
    "\n",
    "    env = Environment(\n",
    "        tolerance=Mode.STRICT,\n",
    "        undefined=StrictUndefined,\n",
    "        loader=FileSystemLoader(\"../templates/\"),\n",
    "    )\n",
    "\n",
    "    template = env.get_template(\"canopy_coverage.html\")\n",
    "    result = template.render(data=report_results, page_title=\"Canopy coverage report\")\n",
    "\n",
    "    with open(os.path.join(output_path, \"report.html\"), 'w') as fp:\n",
    "        fp.write(result)\n",
    "\n",
    "def predict_and_report(runner, image_path):\n",
    "    \n",
    "    results = runner.predict(image_path, warm_start = True)\n",
    "    file_stem = Path(image_path).stem\n",
    "    report_folder = f\"./results_{file_stem}\"\n",
    "    \n",
    "    os.makedirs(report_folder, exist_ok=True)\n",
    "    \n",
    "    results.save_masks(output_path=report_folder, image_path=image_path)\n",
    "    results.visualise(output_path=report_folder)\n",
    "    \n",
    "    report_results = {\n",
    "        \"raw_image\": \"raw_image.jpg\",\n",
    "        \"canopy_mask\": \"canopy_mask.jpg\",\n",
    "        \"canopy_confidence\": \"confidence_map.jpg\",\n",
    "        \"local_maximum\": \"local_maximum.jpg\",\n",
    "        \"canopy_cover\": results.canopy_cover,\n",
    "        \"image_name\": os.path.basename(results.image.name),\n",
    "        \"image_res\": results.image.res[0],\n",
    "        \"image_crs\": results.image.crs,\n",
    "        \"config\": runner.config\n",
    "    }\n",
    "    \n",
    "    render_report(report_folder, report_results)"
   ]
  },
  {
   "cell_type": "code",
   "execution_count": null,
   "id": "acaa7a19",
   "metadata": {},
   "outputs": [],
   "source": [
    "runner = ModelRunner(\"../config/base_semantic_segmentation.yaml\")\n",
    "runner.model.model = tta.SegmentationTTAWrapper(runner.model.model, transforms=tta.aliases.d4_transform())"
   ]
  },
  {
   "cell_type": "code",
   "execution_count": null,
   "id": "b269e425",
   "metadata": {},
   "outputs": [],
   "source": [
    "image_paths = glob.glob(\"../data/\")"
   ]
  },
  {
   "cell_type": "code",
   "execution_count": null,
   "id": "19ba2c59",
   "metadata": {},
   "outputs": [],
   "source": [
    "for image_path in image_paths:\n",
    "    predict_and_report(runner, image_path)"
   ]
  }
 ],
 "metadata": {
  "kernelspec": {
   "display_name": "Python 3 (ipykernel)",
   "language": "python",
   "name": "python3"
  },
  "language_info": {
   "codemirror_mode": {
    "name": "ipython",
    "version": 3
   },
   "file_extension": ".py",
   "mimetype": "text/x-python",
   "name": "python",
   "nbconvert_exporter": "python",
   "pygments_lexer": "ipython3"
  }
 },
 "nbformat": 4,
 "nbformat_minor": 5
}
