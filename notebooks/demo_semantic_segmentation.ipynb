{
 "cells": [
  {
   "cell_type": "code",
   "execution_count": null,
   "id": "4662896d",
   "metadata": {},
   "outputs": [],
   "source": [
    "from tcd_pipeline.modelrunner import ModelRunner"
   ]
  },
  {
   "cell_type": "markdown",
   "id": "3af98dc1",
   "metadata": {},
   "source": [
    "Begin by instantiating a `ModelRunner` object which handles model loading from a configuration file. You can see examples of these files in the `config` folder. You use the same object if you want to launch a semantic segmentation or an instance segmentation model, but a different configuration file."
   ]
  },
  {
   "cell_type": "code",
   "execution_count": null,
   "id": "acaa7a19",
   "metadata": {},
   "outputs": [],
   "source": [
    "runner = ModelRunner(\"../config/base_semantic_segmentation.yaml\")"
   ]
  },
  {
   "cell_type": "markdown",
   "id": "3654f57a",
   "metadata": {},
   "source": [
    "You call the `predict` method on an image, which can be provided as a path to a GeoTIFF or a Rasterio dataset. Since our pipeline requires some knowledge of spatial scale, the data should be georeferenced. If you just want to test an image, you can \"fake\" the georeferencing data."
   ]
  },
  {
   "cell_type": "code",
   "execution_count": null,
   "id": "08734fe3",
   "metadata": {},
   "outputs": [],
   "source": [
    "image_path = \"../data/5c15321f63d9810007f8b06f_10_00000.tif\"\n",
    "res = runner.predict(image_path)"
   ]
  },
  {
   "cell_type": "markdown",
   "id": "b7f8b22c",
   "metadata": {},
   "source": [
    "The `res` object can be used to serialise and visualise data, as well as generate summary statistics."
   ]
  },
  {
   "cell_type": "code",
   "execution_count": null,
   "id": "b269e425",
   "metadata": {},
   "outputs": [],
   "source": [
    "res.visualise()"
   ]
  },
  {
   "cell_type": "code",
   "execution_count": null,
   "id": "92eed248",
   "metadata": {},
   "outputs": [],
   "source": [
    "res.canopy_cover"
   ]
  },
  {
   "cell_type": "markdown",
   "id": "e7dde9ca-f151-4823-a6a2-8e559589d673",
   "metadata": {},
   "source": [
    "If you want to access raw data products, you can look at the canopy mask or confidence maps:"
   ]
  },
  {
   "cell_type": "code",
   "execution_count": null,
   "id": "19ba2c59",
   "metadata": {},
   "outputs": [],
   "source": [
    "res.canopy_mask"
   ]
  },
  {
   "cell_type": "code",
   "execution_count": null,
   "id": "d7dfacab",
   "metadata": {},
   "outputs": [],
   "source": [
    "res.confidence_map"
   ]
  },
  {
   "cell_type": "markdown",
   "id": "ca0f0149-7b11-42a3-8899-0d7f17787469",
   "metadata": {},
   "source": [
    "You can save data to a file using `serialise`"
   ]
  },
  {
   "cell_type": "code",
   "execution_count": null,
   "id": "04bf528c-f5f4-4e3a-a893-1489e38e4ed5",
   "metadata": {},
   "outputs": [],
   "source": [
    "res.serialise(\"/tmp/prediction_test\")"
   ]
  },
  {
   "cell_type": "code",
   "execution_count": null,
   "id": "824a279a-ea05-41c5-b9e9-2eb051aafaf0",
   "metadata": {},
   "outputs": [],
   "source": [
    "!ls /tmp/prediction_test"
   ]
  },
  {
   "cell_type": "code",
   "execution_count": null,
   "id": "95056f0d-4a8d-495c-9006-ebefacb4c878",
   "metadata": {},
   "outputs": [],
   "source": [
    "!cat /tmp/prediction_test/results.json"
   ]
  }
 ],
 "metadata": {
  "kernelspec": {
   "display_name": "Python 3 (ipykernel)",
   "language": "python",
   "name": "python3"
  },
  "language_info": {
   "codemirror_mode": {
    "name": "ipython",
    "version": 3
   },
   "file_extension": ".py",
   "mimetype": "text/x-python",
   "name": "python",
   "nbconvert_exporter": "python",
   "pygments_lexer": "ipython3"
  }
 },
 "nbformat": 4,
 "nbformat_minor": 5
}
