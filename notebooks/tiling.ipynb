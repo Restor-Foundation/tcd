{
 "cells": [
  {
   "cell_type": "markdown",
   "id": "ee9b249f-5f7e-4373-9a03-2d80776f12fa",
   "metadata": {},
   "source": [
    "Geospatial data can be extremely large while machine learning models are only able to predict small inputs due to memory constraints. Even using a high-end graphics card with > 24 GB of VRAM, predicting larger than 2048 x 2048 px tiles is difficult. As a result, predicting over tiles is the preferred way to process large images.\n",
    "\n",
    "We normally assume that CNNs are translation invariant. Roughly speaking this means that if a feature is fully visible, it should be predicted with similar confidence whether it's at the edge or the centre of the image. In practice this is only true in the centre of a tile, since at the edges the network sees blank data and has less context to make the prediction. To avoid these edge effects, images are tiled in an overlapping fashion with the overap roughly equal to one \"receptive field\" of the network. Empirically, 512 px gives a good result in most cases. This logic doesn't necessarily hold for newer architectures based on Transformers which don't have the same inductive biases as convolutional networks.\n",
    "\n",
    "Our pipeline provides some simple utility functions to generate arbitrary resolution tiles from a source orthomosaic. Since the model is trained at 10 cm/px, we resample imagery to that resolution (nominally) though we also perform some augmentation at prediction-time.\n",
    "\n",
    "Drone orthomosaics are often much higher quality, at 1-5cm/px so we have to resample. We provide two options:\n",
    "\n",
    " - Resize the image on the fly\n",
    " - Resample the image and store to disk\n",
    " \n",
    "The first option is fast and works if you want to process an image once. If you think you're likely to experiment with different prediction settings, resampling as a one-time process might make more sense. Rescaling on the fly is also approximate and assumes that linear scaling is appropriate (this is normally true, if you look at the transformation from pixels -> world coordinates). You might find that you get different results if you compare both methods, but it shouldn't affect things much.\n",
    " \n",
    "In order to plug in to machine learning pipelines, we provide a `TiledGeoImage` that takes a single image as an input and returns tile \"samples\". You can then iterate over this dataset sequentially to load all the tiles (e.g. you can directly pass it to a dataloader)."
   ]
  },
  {
   "cell_type": "code",
   "execution_count": null,
   "id": "99ceb837-aa63-49d2-83a0-2312070d4d8f",
   "metadata": {},
   "outputs": [],
   "source": [
    "from tcd_pipeline.data.tiling import Tiler, TiledImage, TiledGeoImage"
   ]
  },
  {
   "cell_type": "markdown",
   "id": "b31fbc82-e029-43f4-9b02-72c8098011b0",
   "metadata": {},
   "source": [
    "First, let's look at our helper class - `Tiler` which generates a list of tiles for a given input. This class just takes an image size and some specifications for tile size and overlap."
   ]
  },
  {
   "cell_type": "code",
   "execution_count": null,
   "id": "79b58abf-cbe5-4421-8cb9-2f13bcecb43a",
   "metadata": {},
   "outputs": [],
   "source": [
    "tiler = Tiler(width=2048, height=2048, tile_size=1024, min_overlap=256)\n",
    "[a for a in tiler.tiles]"
   ]
  },
  {
   "cell_type": "markdown",
   "id": "58508989-25b3-40ea-b762-b4a1eebcb263",
   "metadata": {},
   "source": [
    "The default settings perform a naive tiling with a stride of (tile_size - overlap). For a tile size of 1024 px with _some_ overlap, we need at least 3 tiles. The tiler also has an option to evenly distribute tiles subject to a _minimum overlap_:"
   ]
  },
  {
   "cell_type": "code",
   "execution_count": null,
   "id": "52757fa5-fbfb-4cfa-a6c9-99b1f2b545b5",
   "metadata": {},
   "outputs": [],
   "source": [
    "tiler = Tiler(width=2048, height=2048, tile_size=1024, min_overlap=256, exact_overlap=False)\n",
    "[a for a in tiler.tiles]"
   ]
  },
  {
   "cell_type": "markdown",
   "id": "9166cc15-8596-4237-99c6-44a7bf821e57",
   "metadata": {},
   "source": [
    "The difference here is that we compute the minimum number of tiles required (again, 3) and distribute the tiles across the range. This has less of an impact for very large images, but you may find you prefer results from one approach over the other. The main advantage of this tiling strategy is that you don't need to worry about an odd-shaped tile at the edge of the image. It also provides more overlap for each tile, which may produce better predictions in those regions, but also requires some additional logic when merging results as the \"requested\" overlap isn't necessarily what the tiler will give you."
   ]
  },
  {
   "cell_type": "markdown",
   "id": "47904ce8-5f7d-4d1e-8340-acf08fc7338c",
   "metadata": {},
   "source": [
    "Let's tile an image with the default settings - here we're ignoring geospatial information:"
   ]
  },
  {
   "cell_type": "code",
   "execution_count": null,
   "id": "32729376-e131-469a-9d19-21f6fb2d9308",
   "metadata": {},
   "outputs": [],
   "source": [
    "tiled_image = TiledImage(\"../data/5c15321f63d9810007f8b06f_10_00000.tif\",\n",
    "                        tile_size=1024,\n",
    "                        overlap=256)\n",
    "tiled_image.visualise(edges=True, boxes=True, midpoints=True)"
   ]
  },
  {
   "cell_type": "markdown",
   "id": "e8cfda0a-38ef-4192-ab09-0a16f530a295",
   "metadata": {},
   "source": [
    "With no overlap, we distribute 4 tiles over the image:"
   ]
  },
  {
   "cell_type": "code",
   "execution_count": null,
   "id": "034c1162-778a-43f1-9437-bcee0259f790",
   "metadata": {},
   "outputs": [],
   "source": [
    "tiled_image = TiledImage(\"../data/5c15321f63d9810007f8b06f_10_00000.tif\",\n",
    "                        tile_size=1024,\n",
    "                        overlap=0)\n",
    "tiled_image.visualise(edges=True, boxes=True, midpoints=True)"
   ]
  },
  {
   "cell_type": "markdown",
   "id": "bad41fb3-f3b5-4b35-a955-312d7c0beb85",
   "metadata": {},
   "source": [
    "If we use the `GeoImage` class, we can also specify a target ground sample distance. For example here we're asking for a GSD of 0.2 m/px and as the image is 1024x1024, we expect a single tile:"
   ]
  },
  {
   "cell_type": "code",
   "execution_count": null,
   "id": "733b412d-7c09-40c5-af50-04a46b6ed4bd",
   "metadata": {},
   "outputs": [],
   "source": [
    "tiled_image = TiledGeoImage(\"../data/5c15321f63d9810007f8b06f_10_00000.tif\",\n",
    "                        tile_size=1024, overlap=10, target_gsd=0.2, pad_if_needed=False)"
   ]
  },
  {
   "cell_type": "code",
   "execution_count": null,
   "id": "cd7701f9-fb00-4afb-9b1f-2515f16cb11a",
   "metadata": {},
   "outputs": [],
   "source": [
    "tiled_image.visualise(edges=True, boxes=True, midpoints=True)"
   ]
  },
  {
   "cell_type": "markdown",
   "id": "486a616a-90d2-45e1-a6e0-8ed9d07a3ad5",
   "metadata": {},
   "source": [
    "Let's try on a larger image:"
   ]
  },
  {
   "cell_type": "code",
   "execution_count": null,
   "id": "ac98b942-dce4-4440-aaa6-bea444d06b4b",
   "metadata": {},
   "outputs": [],
   "source": [
    "tiled_image = TiledGeoImage(\"../data/5f058f16ce2c9900068d83ed_10.tif\",\n",
    "                        tile_size=1024, overlap=256, target_gsd=0.2, pad_if_needed=False)"
   ]
  },
  {
   "cell_type": "markdown",
   "id": "d55fb7bc-ed67-4efc-8859-74f2904eee24",
   "metadata": {},
   "source": [
    "We expect the slice size to be 2048 as the image gsd is 0.1m, but the final tiles emitted by the dataset should be 1024x1024"
   ]
  },
  {
   "cell_type": "code",
   "execution_count": null,
   "id": "c9277593-cd8f-4c18-912b-3128dce6e726",
   "metadata": {},
   "outputs": [],
   "source": [
    "for t in tiled_image.tiler.tiles:\n",
    "    x, y = t\n",
    "    assert x.stop-x.start == 2048, (x.stop-x.start)\n",
    "    assert y.stop-y.start == 2048, (y.stop-y.start)"
   ]
  },
  {
   "cell_type": "code",
   "execution_count": null,
   "id": "5d4bb0df-e129-450b-917a-7fa91e7f87f5",
   "metadata": {},
   "outputs": [],
   "source": [
    "tiled_image.visualise(edges=True, boxes=True, midpoints=True)"
   ]
  },
  {
   "cell_type": "code",
   "execution_count": null,
   "id": "d7903427-375a-42ac-8c23-545313e6df8a",
   "metadata": {},
   "outputs": [],
   "source": [
    "tiled_image.visualise_tile(15)"
   ]
  },
  {
   "cell_type": "markdown",
   "id": "52c536b1-c30d-4663-9368-45ee45c930f4",
   "metadata": {},
   "source": [
    "What about a huge image, like all of Zurich?"
   ]
  },
  {
   "cell_type": "markdown",
   "id": "29d60501-a68f-42c4-b931-dbf357f6b7f6",
   "metadata": {},
   "source": [
    "Swisstopo provides tile data for the entire country, which is great, but the tiles don't overlap. For example here are some of the tiles:"
   ]
  },
  {
   "cell_type": "code",
   "execution_count": null,
   "id": "ff532ca3-241c-49b7-a446-d3695216ec88",
   "metadata": {},
   "outputs": [],
   "source": [
    "!ls /media/josh/datasets/swisstopo/zurich_city_2022/ | head "
   ]
  },
  {
   "cell_type": "markdown",
   "id": "829eb341-cb38-4110-841b-c0b9b468ba5a",
   "metadata": {},
   "source": [
    "So we use GDAL to build a virtual TIFF:\n",
    "```\n",
    "gdalbuildvrt zurich_2022.vrt ./zurich_city_2022/*.tif\n",
    "```\n",
    "\n",
    "This is basically an index into the files that allows readers like `rasterio` (and by extension `GDAL`) to convert a query into a file and offset lookup. The virtual file is mere kilobytes, even though the raw GeoTIFF would be gigabytes in size. We can then load this VRT into the tiler:"
   ]
  },
  {
   "cell_type": "code",
   "execution_count": null,
   "id": "1f49b70d-3982-455c-af6c-0b9752563430",
   "metadata": {},
   "outputs": [],
   "source": [
    "tiled_image = TiledGeoImage(\"/media/josh/datasets/swisstopo/zurich_2022.vrt\",\n",
    "                        tile_size=1024, overlap=256, target_gsd=0.2, pad_if_needed=False)"
   ]
  },
  {
   "cell_type": "code",
   "execution_count": null,
   "id": "6eb79266-719e-4e44-8c43-c4d0db5b137b",
   "metadata": {},
   "outputs": [],
   "source": [
    "len(tiled_image)"
   ]
  },
  {
   "cell_type": "markdown",
   "id": "51eb76c1-7c12-4ba7-a949-4448b469a31f",
   "metadata": {},
   "source": [
    "And if we load two adjacent tiles, we can see that overlap is handled correctly:"
   ]
  },
  {
   "cell_type": "code",
   "execution_count": null,
   "id": "a74dddb5-8bbb-46ef-bf08-ae346443f264",
   "metadata": {},
   "outputs": [],
   "source": [
    "tiled_image.visualise_tile(5000)"
   ]
  },
  {
   "cell_type": "code",
   "execution_count": null,
   "id": "28a81519-5bf6-43b3-96be-4e97290bc2ed",
   "metadata": {},
   "outputs": [],
   "source": [
    "tiled_image.visualise_tile(5001) # Shifted to the right"
   ]
  },
  {
   "cell_type": "markdown",
   "id": "6186d6f2-68db-4948-8dc5-7e4609b2ada0",
   "metadata": {},
   "source": [
    "By using this strategy, you can scale dataloading to enormous file sizes without needing to worry about memory constraints. You only need enough memory to load the index (negligible) and the tile itself."
   ]
  }
 ],
 "metadata": {
  "kernelspec": {
   "display_name": "Python 3 (ipykernel)",
   "language": "python",
   "name": "python3"
  },
  "language_info": {
   "codemirror_mode": {
    "name": "ipython",
    "version": 3
   },
   "file_extension": ".py",
   "mimetype": "text/x-python",
   "name": "python",
   "nbconvert_exporter": "python",
   "pygments_lexer": "ipython3"
  }
 },
 "nbformat": 4,
 "nbformat_minor": 5
}
